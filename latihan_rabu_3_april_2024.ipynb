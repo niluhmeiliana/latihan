{
  "nbformat": 4,
  "nbformat_minor": 0,
  "metadata": {
    "colab": {
      "provenance": []
    },
    "kernelspec": {
      "name": "python3",
      "display_name": "Python 3"
    },
    "language_info": {
      "name": "python"
    }
  },
  "cells": [
    {
      "cell_type": "code",
      "execution_count": null,
      "metadata": {
        "colab": {
          "base_uri": "https://localhost:8080/"
        },
        "id": "7wucPsTr9u8B",
        "outputId": "12ca5f96-6d27-47b8-e1e5-f8aa184c2e2b"
      },
      "outputs": [
        {
          "output_type": "stream",
          "name": "stdout",
          "text": [
            "['diva', 'rosa', 'mita', 'ratih']\n"
          ]
        }
      ],
      "source": [
        "nama = ['diva', 'rosa', 'mita','ratih']\n",
        "print(nama)"
      ]
    },
    {
      "cell_type": "code",
      "source": [
        "print(nama[3])"
      ],
      "metadata": {
        "colab": {
          "base_uri": "https://localhost:8080/"
        },
        "id": "aU84yVK9DOpM",
        "outputId": "9a2cdbd2-14d3-4d19-d612-46235e115d5e"
      },
      "execution_count": null,
      "outputs": [
        {
          "output_type": "stream",
          "name": "stdout",
          "text": [
            "ratih\n"
          ]
        }
      ]
    },
    {
      "cell_type": "code",
      "source": [
        "print(nama[-2])"
      ],
      "metadata": {
        "colab": {
          "base_uri": "https://localhost:8080/"
        },
        "id": "vazp7zS4DfE7",
        "outputId": "00e8b2b0-39e5-4270-a4ec-81c552926dcd"
      },
      "execution_count": null,
      "outputs": [
        {
          "output_type": "stream",
          "name": "stdout",
          "text": [
            "mita\n"
          ]
        }
      ]
    },
    {
      "cell_type": "code",
      "source": [
        "print(nama[0:2])"
      ],
      "metadata": {
        "colab": {
          "base_uri": "https://localhost:8080/"
        },
        "id": "hyJuaP_SDlQ8",
        "outputId": "cf2baf4c-2790-4944-e76b-e9594c732c99"
      },
      "execution_count": null,
      "outputs": [
        {
          "output_type": "stream",
          "name": "stdout",
          "text": [
            "['diva', 'rosa']\n"
          ]
        }
      ]
    },
    {
      "cell_type": "code",
      "source": [
        " prodi = ['matematika', 'fisika', 'kimia','informatika', 'biologi', 'farmasi']\n",
        " print(prodi)"
      ],
      "metadata": {
        "colab": {
          "base_uri": "https://localhost:8080/"
        },
        "id": "ZfimeQnL_mcw",
        "outputId": "86460929-c8eb-4028-d4be-c19599d71d77"
      },
      "execution_count": null,
      "outputs": [
        {
          "output_type": "stream",
          "name": "stdout",
          "text": [
            "['matematika', 'fisika', 'kimia', 'informatika', 'biologi', 'farmasi']\n"
          ]
        }
      ]
    },
    {
      "cell_type": "code",
      "source": [
        "print(prodi[0:3])"
      ],
      "metadata": {
        "colab": {
          "base_uri": "https://localhost:8080/"
        },
        "id": "9qzjrJANEZ5L",
        "outputId": "994c4adf-2ddf-4dbe-cf63-958fb5295339"
      },
      "execution_count": null,
      "outputs": [
        {
          "output_type": "stream",
          "name": "stdout",
          "text": [
            "['matematika', 'fisika', 'kimia']\n"
          ]
        }
      ]
    },
    {
      "cell_type": "code",
      "source": [
        "bulan = ['januari', 'februari', 'maret', 'april', 'mei']\n",
        "print(bulan)"
      ],
      "metadata": {
        "colab": {
          "base_uri": "https://localhost:8080/"
        },
        "id": "FM-hKz-rLQF9",
        "outputId": "8fe40967-543c-40bd-e070-13f772b05bbe"
      },
      "execution_count": null,
      "outputs": [
        {
          "output_type": "stream",
          "name": "stdout",
          "text": [
            "['januari', 'februari', 'maret', 'april', 'mei']\n"
          ]
        }
      ]
    },
    {
      "cell_type": "code",
      "source": [
        "print(bulan[0:3])"
      ],
      "metadata": {
        "colab": {
          "base_uri": "https://localhost:8080/"
        },
        "id": "755tlqrlLinw",
        "outputId": "7d8b2050-b971-4d6e-8969-39000373c01c"
      },
      "execution_count": null,
      "outputs": [
        {
          "output_type": "stream",
          "name": "stdout",
          "text": [
            "['januari', 'februari', 'maret']\n"
          ]
        }
      ]
    },
    {
      "cell_type": "code",
      "source": [
        "bulan[4] = 'juni'\n",
        "print(bulan)"
      ],
      "metadata": {
        "colab": {
          "base_uri": "https://localhost:8080/"
        },
        "id": "M-8xWAAhL-AZ",
        "outputId": "48c8b463-b343-4a06-d475-d8cc3519b3d1"
      },
      "execution_count": null,
      "outputs": [
        {
          "output_type": "stream",
          "name": "stdout",
          "text": [
            "['januari', 'februari', 'maret', 'april', 'juni']\n"
          ]
        }
      ]
    },
    {
      "cell_type": "code",
      "source": [
        "#tidak mengubah list\n",
        "print(bulan)"
      ],
      "metadata": {
        "colab": {
          "base_uri": "https://localhost:8080/"
        },
        "id": "W0n-6bNbMH67",
        "outputId": "89dfa97b-f6a9-44b9-977c-e9bdaf26a4c7"
      },
      "execution_count": null,
      "outputs": [
        {
          "output_type": "stream",
          "name": "stdout",
          "text": [
            "['januari', 'februari', 'maret', 'april', 'juni']\n"
          ]
        }
      ]
    },
    {
      "cell_type": "code",
      "source": [
        "hari = ['senin', 'selasa', 'rabu', 'kamis']\n",
        "hari.append('jumat')\n",
        "print(hari)"
      ],
      "metadata": {
        "colab": {
          "base_uri": "https://localhost:8080/"
        },
        "id": "JukkoywkMhPz",
        "outputId": "8c2108ac-57de-4395-bab3-f74861346936"
      },
      "execution_count": null,
      "outputs": [
        {
          "output_type": "stream",
          "name": "stdout",
          "text": [
            "['senin', 'selasa', 'rabu', 'kamis', 'jumat']\n"
          ]
        }
      ]
    },
    {
      "cell_type": "code",
      "source": [
        "hari.insert(3,'minggu')\n",
        "print(hari)"
      ],
      "metadata": {
        "colab": {
          "base_uri": "https://localhost:8080/"
        },
        "id": "o1sdCQ1WNB2R",
        "outputId": "8aba27a4-c6b9-46fa-dd5a-8a42eb3ff741"
      },
      "execution_count": null,
      "outputs": [
        {
          "output_type": "stream",
          "name": "stdout",
          "text": [
            "['senin', 'selasa', 'rabu', 'minggu', 'kamis', 'jumat']\n"
          ]
        }
      ]
    },
    {
      "cell_type": "code",
      "source": [
        "hari.insert(1,'sabtu')\n",
        "print(hari)"
      ],
      "metadata": {
        "colab": {
          "base_uri": "https://localhost:8080/"
        },
        "id": "xXngc7GMN6vs",
        "outputId": "125ebaef-17d5-4080-f629-b0bec476d764"
      },
      "execution_count": null,
      "outputs": [
        {
          "output_type": "stream",
          "name": "stdout",
          "text": [
            "['senin', 'sabtu', 'selasa', 'rabu', 'kamis', 'jumat']\n"
          ]
        }
      ]
    },
    {
      "cell_type": "code",
      "source": [
        "hari.remove('sabtu')\n",
        "print(hari)"
      ],
      "metadata": {
        "colab": {
          "base_uri": "https://localhost:8080/"
        },
        "id": "y2DZ5DcuOPh_",
        "outputId": "887370dc-c97d-4da9-ca70-876b475d3c21"
      },
      "execution_count": null,
      "outputs": [
        {
          "output_type": "stream",
          "name": "stdout",
          "text": [
            "['senin', 'selasa', 'rabu', 'kamis', 'jumat']\n"
          ]
        }
      ]
    },
    {
      "cell_type": "code",
      "source": [
        "hari.remove('rabu')\n",
        "print(hari)"
      ],
      "metadata": {
        "colab": {
          "base_uri": "https://localhost:8080/"
        },
        "id": "ftT95W_FOZEP",
        "outputId": "bba5d6f7-6dac-4f17-9352-5e401e6ceb32"
      },
      "execution_count": null,
      "outputs": [
        {
          "output_type": "stream",
          "name": "stdout",
          "text": [
            "['senin', 'selasa', 'kamis', 'jumat']\n"
          ]
        }
      ]
    },
    {
      "cell_type": "code",
      "source": [
        "print('selasa' in hari)\n"
      ],
      "metadata": {
        "colab": {
          "base_uri": "https://localhost:8080/"
        },
        "id": "9ib_j_odOosi",
        "outputId": "474eba3e-cc88-47bb-8078-af5ac2fc36f4"
      },
      "execution_count": null,
      "outputs": [
        {
          "output_type": "stream",
          "name": "stdout",
          "text": [
            "True\n"
          ]
        }
      ]
    },
    {
      "cell_type": "code",
      "source": [
        "print('minggu' in hari)"
      ],
      "metadata": {
        "colab": {
          "base_uri": "https://localhost:8080/"
        },
        "id": "dMAqW8OCO1I9",
        "outputId": "66c4b408-7189-428b-9e20-db1ee9865994"
      },
      "execution_count": null,
      "outputs": [
        {
          "output_type": "stream",
          "name": "stdout",
          "text": [
            "False\n"
          ]
        }
      ]
    },
    {
      "cell_type": "code",
      "source": [
        "print(len(hari))"
      ],
      "metadata": {
        "colab": {
          "base_uri": "https://localhost:8080/"
        },
        "id": "sCcdemQwPDy4",
        "outputId": "205f7b22-53a5-47c1-afc7-ea4974569b94"
      },
      "execution_count": null,
      "outputs": [
        {
          "output_type": "stream",
          "name": "stdout",
          "text": [
            "4\n"
          ]
        }
      ]
    },
    {
      "cell_type": "code",
      "source": [
        "bil_04 = ['1','2', '3', '4', '5']\n",
        "print(bil_04[2:3])\n",
        "print(bil_04[3:4])\n",
        "print(bil_04[-3])"
      ],
      "metadata": {
        "colab": {
          "base_uri": "https://localhost:8080/"
        },
        "id": "GA6waxj0UQA7",
        "outputId": "1f46054c-4333-4777-a819-8dc97520a812"
      },
      "execution_count": null,
      "outputs": [
        {
          "output_type": "stream",
          "name": "stdout",
          "text": [
            "['3']\n",
            "['4']\n",
            "3\n"
          ]
        }
      ]
    },
    {
      "cell_type": "code",
      "source": [
        "buah_04 = ['apel', 'jeruk', 'mangga', 'pepaya']\n",
        "for banyak in buah_04:\n",
        "  print(banyak)"
      ],
      "metadata": {
        "colab": {
          "base_uri": "https://localhost:8080/"
        },
        "id": "-Ah0c3keX5Az",
        "outputId": "41fd5539-427e-4da8-f010-7a12fea1de5a"
      },
      "execution_count": null,
      "outputs": [
        {
          "output_type": "stream",
          "name": "stdout",
          "text": [
            "apel\n",
            "jeruk\n",
            "mangga\n",
            "pepaya\n"
          ]
        }
      ]
    },
    {
      "cell_type": "code",
      "source": [
        "i = 0\n",
        "while i < len(buah_04):\n",
        "  print(buah_04[i])\n",
        "  i += 1"
      ],
      "metadata": {
        "colab": {
          "base_uri": "https://localhost:8080/"
        },
        "id": "n6L6BI7UYjIA",
        "outputId": "2ce77626-e795-4272-f973-92bb3761b19a"
      },
      "execution_count": null,
      "outputs": [
        {
          "output_type": "stream",
          "name": "stdout",
          "text": [
            "apel\n",
            "jeruk\n",
            "mangga\n",
            "pepaya\n"
          ]
        }
      ]
    },
    {
      "cell_type": "code",
      "source": [
        "angka = range(5)\n",
        "print(angka)"
      ],
      "metadata": {
        "colab": {
          "base_uri": "https://localhost:8080/"
        },
        "id": "lpAGfXEbZdqS",
        "outputId": "9db0aaad-dc52-4494-b53d-4a9afc70acbf"
      },
      "execution_count": null,
      "outputs": [
        {
          "output_type": "stream",
          "name": "stdout",
          "text": [
            "range(0, 5)\n"
          ]
        }
      ]
    },
    {
      "cell_type": "code",
      "source": [
        "for bilangan in angka:\n",
        "  print(bilangan)\n",
        "for bilangan in range(3,8):\n",
        "  print(bilangan)"
      ],
      "metadata": {
        "colab": {
          "base_uri": "https://localhost:8080/"
        },
        "id": "3Kauz8fuaks9",
        "outputId": "521f0ba6-89b8-48d0-e319-bdc818754022"
      },
      "execution_count": null,
      "outputs": [
        {
          "output_type": "stream",
          "name": "stdout",
          "text": [
            "0\n",
            "1\n",
            "2\n",
            "3\n",
            "4\n",
            "3\n",
            "4\n",
            "5\n",
            "6\n",
            "7\n"
          ]
        }
      ]
    },
    {
      "cell_type": "code",
      "source": [
        "for bilangan in range(0,10,3):\n",
        "  print(bilangan)"
      ],
      "metadata": {
        "colab": {
          "base_uri": "https://localhost:8080/"
        },
        "id": "uMY9mbsfbFq0",
        "outputId": "618a6eba-a202-417f-f2a7-6abcb5accb4b"
      },
      "execution_count": null,
      "outputs": [
        {
          "output_type": "stream",
          "name": "stdout",
          "text": [
            "0\n",
            "3\n",
            "6\n",
            "9\n"
          ]
        }
      ]
    },
    {
      "cell_type": "code",
      "source": [
        "for bilangan in range(2,5):\n",
        "  print(bilangan)"
      ],
      "metadata": {
        "colab": {
          "base_uri": "https://localhost:8080/"
        },
        "id": "YyhZ5tN0bp_2",
        "outputId": "7a5baac3-59be-477e-c830-4e63bb514e51"
      },
      "execution_count": null,
      "outputs": [
        {
          "output_type": "stream",
          "name": "stdout",
          "text": [
            "2\n",
            "3\n",
            "4\n"
          ]
        }
      ]
    },
    {
      "cell_type": "code",
      "source": [
        "bulan = ['januari', 'februari', 'maret', 'april', 'mei']\n",
        "for jenis in bulan:\n",
        "  print(jenis)"
      ],
      "metadata": {
        "colab": {
          "base_uri": "https://localhost:8080/"
        },
        "id": "E2nQSF7pcTp0",
        "outputId": "2c7555f4-a01b-4453-d410-dc0e5e98dd78"
      },
      "execution_count": null,
      "outputs": [
        {
          "output_type": "stream",
          "name": "stdout",
          "text": [
            "januari\n",
            "februari\n",
            "maret\n",
            "april\n",
            "mei\n"
          ]
        }
      ]
    },
    {
      "cell_type": "code",
      "source": [
        "i = 1\n",
        "while i < len(bulan):\n",
        "  print(bulan[i])\n",
        "  i+=2"
      ],
      "metadata": {
        "colab": {
          "base_uri": "https://localhost:8080/"
        },
        "id": "hFU2cVEkcwwf",
        "outputId": "5ef9b789-de4e-493e-d78b-9e8af72905dd"
      },
      "execution_count": null,
      "outputs": [
        {
          "output_type": "stream",
          "name": "stdout",
          "text": [
            "februari\n",
            "april\n"
          ]
        }
      ]
    },
    {
      "cell_type": "code",
      "source": [
        "bunga = ['mawar', 'cempaka', 'tulip', 'sakura']\n",
        "for banyak in bunga:\n",
        "  print(banyak)"
      ],
      "metadata": {
        "colab": {
          "base_uri": "https://localhost:8080/"
        },
        "id": "-dXMGsM5c--U",
        "outputId": "02fbf769-f741-4dd6-8050-2502f644e66d"
      },
      "execution_count": null,
      "outputs": [
        {
          "output_type": "stream",
          "name": "stdout",
          "text": [
            "mawar\n",
            "cempaka\n",
            "tulip\n",
            "sakura\n"
          ]
        }
      ]
    }
  ]
}